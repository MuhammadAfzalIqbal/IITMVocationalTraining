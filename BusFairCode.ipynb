{
 "cells": [
  {
   "cell_type": "code",
   "execution_count": 8,
   "id": "2ad1bced-d79a-401b-b414-636247779991",
   "metadata": {},
   "outputs": [
    {
     "name": "stdout",
     "output_type": "stream",
     "text": [
      "hello\n",
      "enter your marks for 3 subjects\n",
      "enter marks for subject 0\n"
     ]
    },
    {
     "name": "stdin",
     "output_type": "stream",
     "text": [
      "\t 90\n"
     ]
    },
    {
     "name": "stdout",
     "output_type": "stream",
     "text": [
      "enter marks for subject 1\n"
     ]
    },
    {
     "name": "stdin",
     "output_type": "stream",
     "text": [
      "\t 99\n"
     ]
    },
    {
     "name": "stdout",
     "output_type": "stream",
     "text": [
      "enter marks for subject 2\n"
     ]
    },
    {
     "name": "stdin",
     "output_type": "stream",
     "text": [
      "\t 45\n"
     ]
    },
    {
     "name": "stdout",
     "output_type": "stream",
     "text": [
      "you perentage is 30.0\n",
      "failed\n"
     ]
    }
   ],
   "source": [
    "print(\"hello\")\n",
    "print('enter your marks for 3 subjects')\n",
    "\n",
    "for i in range(3):\n",
    "    print('enter marks for subject',i)\n",
    "    a=int(input('\\t'))\n",
    "    e=a\n",
    "    c=a+e\n",
    "d=c/3\n",
    "print('you perentage is',d)\n",
    "if d>=90:\n",
    "    print(\"your grad is A\")\n",
    "elif d>=70:\n",
    "    print('your grade is B')\n",
    "elif d>=60:\n",
    "    print('your grade is c')\n",
    "elif d>=60:\n",
    "    print('your grade is D')\n",
    "elif d>=40:\n",
    "    print('noob')\n",
    "else:\n",
    "    print('failed')"
   ]
  },
  {
   "cell_type": "code",
   "execution_count": 29,
   "id": "dc7465da-d6db-4b67-89a4-33dc4080b9cd",
   "metadata": {},
   "outputs": [
    {
     "name": "stdout",
     "output_type": "stream",
     "text": [
      "hello\n"
     ]
    },
    {
     "name": "stdin",
     "output_type": "stream",
     "text": [
      "enter no of tickets required 2\n"
     ]
    },
    {
     "name": "stdout",
     "output_type": "stream",
     "text": [
      "enter age of every passanger\n"
     ]
    },
    {
     "name": "stdin",
     "output_type": "stream",
     "text": [
      "enter age for passenger 12\n",
      "enter age for passenger 12\n"
     ]
    },
    {
     "name": "stdout",
     "output_type": "stream",
     "text": [
      "18% discount for passanger 12\n",
      "18% discount for passanger 12\n",
      "your total ticket amount is 1968.0\n"
     ]
    }
   ],
   "source": [
    "print('hello')\n",
    "tickets=int(input(\"enter no of tickets required\"))\n",
    "print(\"enter age of every passanger\")\n",
    "age=[]\n",
    "c=[]\n",
    "amount=1200*tickets\n",
    "for i in range(tickets):\n",
    "    a=int(input('enter age for passenger'))\n",
    "    age.append(a)\n",
    "for k in age:\n",
    "    if k>=18:\n",
    "        print('no dicount for passenger',k)\n",
    "    elif k<18:\n",
    "        print('18% discount for passanger',k)\n",
    "        d=(18/100)*1200\n",
    "        amount-=d\n",
    "    else:\n",
    "        print('sory no discount available')\n",
    "print('your total ticket amount is',amount)"
   ]
  },
  {
   "cell_type": "code",
   "execution_count": null,
   "id": "60aa6c0a-732b-4b63-86d1-92023673f628",
   "metadata": {},
   "outputs": [],
   "source": []
  }
 ],
 "metadata": {
  "kernelspec": {
   "display_name": "Python 3 (ipykernel)",
   "language": "python",
   "name": "python3"
  },
  "language_info": {
   "codemirror_mode": {
    "name": "ipython",
    "version": 3
   },
   "file_extension": ".py",
   "mimetype": "text/x-python",
   "name": "python",
   "nbconvert_exporter": "python",
   "pygments_lexer": "ipython3",
   "version": "3.12.4"
  }
 },
 "nbformat": 4,
 "nbformat_minor": 5
}
